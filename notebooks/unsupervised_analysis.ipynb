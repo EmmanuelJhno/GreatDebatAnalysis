{
 "cells": [
  {
   "cell_type": "code",
   "execution_count": 44,
   "metadata": {},
   "outputs": [],
   "source": [
    "import pandas as pd\n",
    "import numpy as np \n",
    "import re\n",
    "import string"
   ]
  },
  {
   "cell_type": "code",
   "execution_count": 100,
   "metadata": {},
   "outputs": [],
   "source": [
    "res = []\n",
    "with open('../data/gdn_common_sorted.txt') as file : \n",
    "    for j, line in enumerate(file): \n",
    "        if j > 0 : \n",
    "            res.append(line.split(' ')[:701])\n",
    "res = np.asarray(res)\n",
    "embedding = pd.DataFrame(res[:,1:], index=res[:,0])\n",
    "embeded_words = {}\n",
    "\n",
    "for word in embedding.index : \n",
    "    embeded_words[word.split('_')[0]] = word\n",
    "    \n",
    "data = pd.read_csv('../data/dataset_1.csv')"
   ]
  },
  {
   "cell_type": "code",
   "execution_count": 101,
   "metadata": {},
   "outputs": [],
   "source": [
    "def preprocess(sentence): \n",
    "    '''\n",
    "    return the sentence passed in argmuents with no punctuation\n",
    "    '''\n",
    "    sentence = sentence.replace('\\'',' ').lower()\n",
    "    table = sentence.maketrans('', '', string.punctuation)\n",
    "    sentence = [w.translate(table) for w in sentence]\n",
    "    sentence = ''.join(sentence)\n",
    "\n",
    "    return sentence"
   ]
  },
  {
   "cell_type": "code",
   "execution_count": 128,
   "metadata": {},
   "outputs": [],
   "source": [
    "def embed_answer(sentence): \n",
    "    sentence_embedding = []\n",
    "    sentence = preprocess(sentence)\n",
    "    for i, word in enumerate(sentence.split(' ')):\n",
    "        try : \n",
    "            if embeded_words[word].endswith('_n'):\n",
    "                sentence_embedding.append(embedding.loc[embeded_words[word]].tolist())\n",
    "        except KeyError: \n",
    "            continue\n",
    "    \n",
    "    return(np.asarray(sentence_embedding, dtype=np.float64))\n",
    "   \n",
    "def compute_variance(sentence_embedding, eval_type='var'):\n",
    "    result = 0\n",
    "    if eval_type == 'var':\n",
    "        for index in range(len(sentence_embedding[0])):\n",
    "            result += np.var(sentence_embedding[:,index])\n",
    "            \n",
    "    elif eval_type == 'dist':\n",
    "        n = len(sentence_embedding)\n",
    "        for word_1_idx in range(n-1):\n",
    "            for word_2_idx in range(word_1_idx+1,n):\n",
    "                result += np.linalg.norm(sentence_embedding[word_1_idx]-sentence_embedding[word_2_idx])\n",
    "        result = result*2/(n*(n-1))\n",
    "\n",
    "    return result\n"
   ]
  },
  {
   "cell_type": "code",
   "execution_count": 130,
   "metadata": {},
   "outputs": [
    {
     "data": {
      "text/html": [
       "<div>\n",
       "<style scoped>\n",
       "    .dataframe tbody tr th:only-of-type {\n",
       "        vertical-align: middle;\n",
       "    }\n",
       "\n",
       "    .dataframe tbody tr th {\n",
       "        vertical-align: top;\n",
       "    }\n",
       "\n",
       "    .dataframe thead th {\n",
       "        text-align: right;\n",
       "    }\n",
       "</style>\n",
       "<table border=\"1\" class=\"dataframe\">\n",
       "  <thead>\n",
       "    <tr style=\"text-align: right;\">\n",
       "      <th></th>\n",
       "      <th>Unnamed: 0</th>\n",
       "      <th>zip_code</th>\n",
       "      <th>problem</th>\n",
       "      <th>solution</th>\n",
       "    </tr>\n",
       "  </thead>\n",
       "  <tbody>\n",
       "    <tr>\n",
       "      <th>0</th>\n",
       "      <td>1</td>\n",
       "      <td>57000.0</td>\n",
       "      <td>Les problèmes auxquels se trouve confronté l’e...</td>\n",
       "      <td>Les problèmes auxquels se trouve confronté l’e...</td>\n",
       "    </tr>\n",
       "    <tr>\n",
       "      <th>1</th>\n",
       "      <td>5</td>\n",
       "      <td>95330.0</td>\n",
       "      <td>La pollution de l'air</td>\n",
       "      <td>En matière d'émission de C02 tout n'est pas di...</td>\n",
       "    </tr>\n",
       "    <tr>\n",
       "      <th>2</th>\n",
       "      <td>6</td>\n",
       "      <td>84750.0</td>\n",
       "      <td>La biodiversité et la disparition de certaines...</td>\n",
       "      <td>Arrêter les pesticides , notamment le glyphosa...</td>\n",
       "    </tr>\n",
       "    <tr>\n",
       "      <th>3</th>\n",
       "      <td>11</td>\n",
       "      <td>33820.0</td>\n",
       "      <td>La pollution de l'air</td>\n",
       "      <td>- Réduire de manière drastique les déplacement...</td>\n",
       "    </tr>\n",
       "    <tr>\n",
       "      <th>4</th>\n",
       "      <td>15</td>\n",
       "      <td>8500.0</td>\n",
       "      <td>Pollution air et mers</td>\n",
       "      <td>Interdire très rapidement les emballages plast...</td>\n",
       "    </tr>\n",
       "  </tbody>\n",
       "</table>\n",
       "</div>"
      ],
      "text/plain": [
       "   Unnamed: 0  zip_code                                            problem  \\\n",
       "0           1   57000.0  Les problèmes auxquels se trouve confronté l’e...   \n",
       "1           5   95330.0                              La pollution de l'air   \n",
       "2           6   84750.0  La biodiversité et la disparition de certaines...   \n",
       "3          11   33820.0                              La pollution de l'air   \n",
       "4          15    8500.0                              Pollution air et mers   \n",
       "\n",
       "                                            solution  \n",
       "0  Les problèmes auxquels se trouve confronté l’e...  \n",
       "1  En matière d'émission de C02 tout n'est pas di...  \n",
       "2  Arrêter les pesticides , notamment le glyphosa...  \n",
       "3  - Réduire de manière drastique les déplacement...  \n",
       "4  Interdire très rapidement les emballages plast...  "
      ]
     },
     "execution_count": 130,
     "metadata": {},
     "output_type": "execute_result"
    }
   ],
   "source": [
    "data.head(5)"
   ]
  },
  {
   "cell_type": "code",
   "execution_count": 131,
   "metadata": {},
   "outputs": [
    {
     "data": {
      "text/plain": [
       "4.501058003938968"
      ]
     },
     "execution_count": 131,
     "metadata": {},
     "output_type": "execute_result"
    }
   ],
   "source": [
    "compute_variance(embed_answer('je pense que le nucléaire est la solution au problème'), eval_type='dist')"
   ]
  },
  {
   "cell_type": "code",
   "execution_count": 132,
   "metadata": {},
   "outputs": [
    {
     "name": "stdout",
     "output_type": "stream",
     "text": [
      "Les problèmes auxquels se trouve confronté l’ensemble de la planète et que dénoncent, dans le plus parfait désordre, les gilets jaunes de France ne sont-ils pas dus, avant tout, à la surpopulation mondiale ? Cette population est passée d’1,5 milliards d’habitants en 1900 à 7 milliards en 2020 et montera bientôt à 10 milliards vers 2040.  Avec les progrès de la communication dans ce village mondial qu'est notre planète, chaque individu, du fin fond de l’Asie au fin fond de l’Afrique, en passant par les « quartiers » et les « campagnes » de notre pays, aspire à vivre – et on ne peu l’en blâmer – comme les moins mal lotis de nos concitoyens (logement, nourriture, biens de consommation, déplacement, etc.).  Voilà la mère de tous les problèmes. Si tel est bien le cas, la solution à tous les problèmes (stabilisation de la croissance démographique, partage des richesses, partage des terres, partage de l’eau, protection de la biodiversité, règlement des conflits, lutte contre la déforestation, lutte contre dérèglement climatique, règlement des conflits, stabilisation des migrations, concurrence commerciale mondiale, etc.) ne sera ni française, ni européenne, mais mondiale. La France se doit d’y jouer un rôle moteur.  Le reste, autour duquel se déroulera « le Grand débat », paraît assez anecdotique.\n",
      "11.48498053087726\n",
      "En matière d'émission de C02 tout n'est pas dit aux utilisateurs des transports motorisés. On matraque les petits consommateurs que sont les automobilistes surtout en France avec une fiscalité à caractère dissuasif pour les forcer à utiliser d'autres moyens de transport que leur véhicule automobile personnel. Le mettre mot aujourd'hui est \"la valeur travail\" à laquelle j'adhère pleinement vu que j'ai travaillé 37ans sans interruption et 41 au total. Mais beaucoup de gens qui veulent travailler se voient obligés de prendre leur véhicule ( horaires ou non desservit par les transports en commun) sans compter qu'un employeur voit d'un bon œil que ses salariés ne soient pas les yeux rivés sur leur montre par peur de louper leur train. Je me suis livré à une petite comparaison entre un salarié qui fait 8000km par an  (40km*200jrs) pour aller bosser et un touriste qui fait l'aller retour en avion aux Antilles. (C’est la distance qui compte, pas le lieu). Le salarié, véhicule automobile : 8000km-205gr/km = 1640kg de CO2. Le touriste, aller retour de Paris à Pointe à pitre : 6859km*2 -120gr/km par personne = 1646kg de CO2. Le CO2 émis par l'aviation à toutes les chances d'être piégé en altitude ce qui n'est pas automatique pour celui émis au raz du sol qui peut être absorbé par la végétation ou le plancton. Alors pourquoi stigmatiser les automobilistes et passer sous silence les énormes quantités de CO2 émises par passager dans l'aviation. Je ne parle pas du fret sur lequel il faudrait plancher entre le nécessaire et le mercantile. C'est vrai on fait plus de km par avion mais on peut s'en passer (tourisme) pas de ceux qui vous mènent au travail. Pourquoi ne pas taxer plus les transports aériens (loisirs) au delà de la zone € ce qui en plus éviterait le déficit extérieure de la zone. Je l'avoue c'est un peu puéril, vous trouverez surement des moyens d'action plus présentables.( le litre de kérosène au prix du diesel par exemple). De toute façon il faudra réduire notre niveau consommation d’énergie fossile. Commençons par :\"Choisir entre le superflu et le nécessaire\".  Ce ne sont pas les plus modestes qui polluent le plus, c'est leur nombre.\n",
      "11.416485192700414\n",
      "Arrêter les pesticides , notamment le glyphosate et encourager toutes les formes d'agriculture durable , poumon de notre pays . Cela crée des emplois , réduit considérablement les problèmes de santé , installe des relations sociales , forme les plus jeunes au respect du goût , rémunère les agriculteurs au bon prix , valorise un territoire de manière totalement transversale . Cela respecte aussi toutes les espèces animales , notamment les abeilles , indispensables à a pollinisation . Il est grand temps de prouver que notre pays est un pays MODERNE\n",
      "10.190912290033639\n",
      "- Réduire de manière drastique les déplacements (Avion, Bateaux, Camion) qui utilise les matières fossiles mettre aux normes les industries et arrêt des chaudières au charbon et au fuel.  - Isoler les bâtiments énergivores. - Développement des nouvelles énergies tel que l'hydrogène qui doivent être moins polluantes. - Utilisation de méthane produit par les déchets. - Utilisation du ferroutage\n",
      "12.596418917128954\n",
      "Interdire très rapidement les emballages plastique, notamment les bouteilles plastique. Il faut savoir qu'en France seulement nous en consommons des milliard par an  (20 000 000 par jour !). Plus d'un tiers n'est pas recyclé et se retrouve un peu partout. Un pollution facile à mettre en place en revenant au verre consigné ou autres. Il en est de même pour tous les autres emballages (yaourts et autres)\n",
      "11.339546145221748\n",
      "Pour lutter contre la pollution liée aux voitures, qui est un cheval de bataille du gouvernement, je propose que celui-ci montre l'exemple en remplaçant les voitures des ministres par des voitures électriques. En effet, le gouvernement nous incite à changer notre véhicule pour un véhicule plus propre (hybride ou électrique) avec des primes qui sont insuffisantes et dérisoires pour s'acheter un tel véhicule ( qu'il  soit neuf ou d''occasion), tout ça dans un but de préserver l'environnement. Donc pourquoi les ministres ne montrent-ils pas l'exemple, le ministre de l'écologie en premier lieu.. De plus, je doute qu'une  voiture par ministre soit très écologique, n'y a-t-il pas possibilité de faire du covoiturage? On incite bien les citoyens à le faire.\n",
      "11.48029752718951\n",
      "favoriser logistiquement et financièrement  la petite production locale agricole (légumes, fruits, viandes) et sa commercialisation pour éviter les transports inutiles des produits vendus en grandes surfaces, lesquelles ne pensent qu'à leurs profits.\n",
      "5.845389990976221\n",
      "Imposer à des constructeurs automobiles d’accélérer les recherches, le développement et le déploiement de véhicules à hydrogène pour une mise en circulation le plus rapidement possible. En faire une ambition nationale pour que la France soit le leader mondial dans ce domaine. Dans les villes hors Paris, rendre les transports en commun de proximité gratuits ou à tarifs réduits.\n",
      "12.293315443590727\n",
      "Il faut que l'effort à la transition écologique soit évalué équitablement, citoyens, grandes entreprises, industrie maritime, avionique. Pas de dérogation possible, pas de remise ou crédit d'impôts possible sur le sujet écologie.\n",
      "11.020220254170658\n",
      "Gratuité  des transports en commun  Taxer le voiture qui rentre au centre ville Taxer les les avions le transports routier  Favorisé les frères ferroviaires  Mette de cosigne sur tout les embouteillages emballage pour limiter production massive\n",
      "12.095358316694329\n",
      "Sortir de la société de consommation, favoriser le réutilisable, le réemployable, réduire notre consommation d'énergie fossiles, se passer des climatisations, éviter de surchauffer son habitation, développer l'emploi local, limiter les importations de produits manufacturés, de fruits, légumes … produire local\n",
      "9.76910418832498\n",
      "Prendre en compte le réel pour que l'action humaine, quelque que soit son échelle, s’inscrive dans les limites du réel spatial et temporel et dans le respect de chaque être humain. <br> Fonder notre droit sur la réalité : <br> *    La terre est finie, comme ses ressources ; <br> *    La régénérations des ressources n'est pas instantanées ;<br> *    Nos comportements ont des conséquences à différentes échelles. Aucune ne peut être négligée.<br> *    Nos comportements ont des conséquences sur la durée. La résorption de l'impacte de l'action humaine n'est pas instantanée. <br> <br> *    Nul ne peu s'approprier plus que ce qui est.<br> *    Nul ne peut s’approprier au détriment d’autrui, ni présumer en faire meilleur usage qu'un autre.<br> *    Nul ne peut présumer de l'utilité ou de la non utilisation de ressources de l'humanité présente et à venir.<br> *    Nul ne peut considérer qu'il n'est pas possible de se tenir au principe de réalité.<br> *    Aucune action ne peut être considérer sans conséquence ni s'extraire de ce principe de réalité. <br> <br> Pour faire reculer le \"jour du dépassement\". Pour l'humanité présente et à venir, fonder notre droit, à partir d'un principe de réalité.\n",
      "11.676204515042048\n",
      "Permettre la mise en place d'une agriculture responsable qui ne détruise plus nos resources comme actuellement. Cela va de paire avec le développement de nouvelles habitudes de consommation. plus de local et moins de viande\n",
      "9.955177210746623\n",
      "Plutôt que d'embêter les français avec la limitation à 80km, l'état devrait avoir une véritable politique de développement du ferroutage, en particulier pour les transits européens. Le ferroutage, c’est-à-dire le transport des camions par train, pour le trafic traversant la France, permettrait d'alléger nos autoroutes, donc de gagner en sécurité, en écologie, et en confort des automobilistes. On entend parler du ferroutage depuis des années, mais il n'y a jamais eu de volonté politique suffisante pour que ce soit correctement mis en place. En effet, pour que le ferroutage soit efficace et trouve l'adhésion des transporteurs, il faut lourdement investir au départ : il faut des lignes avec suffisamment de gares dédiées, et suffisamment de rotations de trains. Si l'état investit pour un ferroutage efficace, les transporteurs y trouveront leur intérêt, puis la population entière y gagnera en sécurité et écologie. Les seuls perdants dans le ferroutage sont les sociétés d'autoroutes ; tous les autres acteurs peuvent y gagner…\n",
      "12.291685436559584\n",
      "Écouter les écologistes et tenir compte de leurs préconisations, particulièrement quand des instances indépendantes ont évalué négativement l'impact d'un projet d'infrastructures lourd (ex : Grand Contournement Ouest de Strasbourg)\n",
      "9.872634000248253\n"
     ]
    }
   ],
   "source": [
    "n_print = 15\n",
    "for i in range(n_print): \n",
    "    print(data.iloc[i]['solution'])\n",
    "    print(compute_variance(embed_answer(data.iloc[i]['solution'])))"
   ]
  }
 ],
 "metadata": {
  "kernelspec": {
   "display_name": "Python 3",
   "language": "python",
   "name": "python3"
  },
  "language_info": {
   "codemirror_mode": {
    "name": "ipython",
    "version": 3
   },
   "file_extension": ".py",
   "mimetype": "text/x-python",
   "name": "python",
   "nbconvert_exporter": "python",
   "pygments_lexer": "ipython3",
   "version": "3.6.8"
  }
 },
 "nbformat": 4,
 "nbformat_minor": 2
}
