{
 "cells": [
  {
   "cell_type": "code",
   "execution_count": 1,
   "metadata": {},
   "outputs": [],
   "source": [
    "import pandas as pd\n",
    "import numpy as np \n",
    "import re\n",
    "import string\n",
    "import tqdm\n",
    "import matplotlib.pyplot as plt\n",
    "from sklearn.decomposition import PCA\n",
    "from sklearn.svm import SVC\n",
    "from sklearn.model_selection import train_test_split\n",
    "from sklearn.metrics import classification_report, confusion_matrix, f1_score\n",
    "\n",
    "\n",
    "res = []\n",
    "with open('../data/gdn_common_sorted.txt') as file : \n",
    "    for j, line in enumerate(file): \n",
    "        if j > 0 : \n",
    "            res.append(line.split(' ')[:701])\n",
    "res = np.asarray(res)\n",
    "embedding = pd.DataFrame(res[:,1:], index=res[:,0])\n",
    "embeded_words = {}\n",
    "\n",
    "for word in embedding.index : \n",
    "    embeded_words[word.split('_')[0]] = word\n",
    "\n",
    "    \n",
    "data = pd.read_csv('../data/data_F.csv', sep=';') # lecture data set \n",
    "department = np.copy(data['zip_code'].values)\n",
    "\n",
    "def preprocess(sentence): \n",
    "    '''\n",
    "    return the sentence passed in argmuents with no punctuation\n",
    "    '''\n",
    "    sentence = sentence.replace('\\'',' ').lower()\n",
    "    table = sentence.maketrans('', '', string.punctuation)\n",
    "    sentence = [w.translate(table) for w in sentence]\n",
    "    sentence = ''.join(sentence)\n",
    "\n",
    "    return sentence\n",
    "\n",
    "def embed_answer(sentence): \n",
    "    sentence_embedding = []\n",
    "    sentence = preprocess(sentence)\n",
    "    for i, word in enumerate(sentence.split(' ')):\n",
    "        try : \n",
    "            if not embeded_words[word].endswith('_i'):\n",
    "                sentence_embedding.append(embedding.loc[embeded_words[word]].tolist())\n",
    "        except KeyError: \n",
    "            continue\n",
    "    \n",
    "    return(np.asarray(sentence_embedding, dtype=np.float64))\n",
    "   \n",
    "def compute_variance(sentence_embedding, eval_type='var'):\n",
    "    result = 0\n",
    "    if eval_type == 'var':\n",
    "        for index in range(len(sentence_embedding[0])):\n",
    "            result += np.var(sentence_embedding[:,index])\n",
    "            \n",
    "    elif eval_type == 'dist':\n",
    "        n = len(sentence_embedding)\n",
    "        for word_1_idx in range(n-1):\n",
    "            for word_2_idx in range(word_1_idx+1,n):\n",
    "                result += np.linalg.norm(sentence_embedding[word_1_idx]-sentence_embedding[word_2_idx])\n",
    "        result = result*2/(n*(n-1))\n",
    "\n",
    "    return result\n",
    "\n",
    "def compute_moyenne(sentence_embedding):\n",
    "    result = []\n",
    "    #print(len(sentence_embedding[0]))\n",
    "    for index in range(len(sentence_embedding[0])): # taille 700\n",
    "        result.append(np.sum(sentence_embedding[:,index])/len(sentence_embedding))\n",
    "    return result\n",
    "\n",
    "def get_principal_components(sentence, k=5):\n",
    "    pca = PCA(n_components=k)\n",
    "    pcs = pca.fit_transform(sentence)\n",
    "    return pcs.flatten()"
   ]
  },
  {
   "cell_type": "code",
   "execution_count": 2,
   "metadata": {},
   "outputs": [
    {
     "name": "stdout",
     "output_type": "stream",
     "text": [
      "(87, 700)\n",
      "(3500,)\n"
     ]
    }
   ],
   "source": [
    "sentence = data.iloc[0]['solution']\n",
    "emb_sentence = embed_answer(sentence)\n",
    "print(emb_sentence.shape)\n",
    "pc = get_principal_components(emb_sentence.T).T\n",
    "print(pc.shape)"
   ]
  },
  {
   "cell_type": "code",
   "execution_count": 25,
   "metadata": {},
   "outputs": [
    {
     "name": "stderr",
     "output_type": "stream",
     "text": [
      "100%|██████████| 2445/2445 [01:23<00:00, 29.30it/s]\n"
     ]
    },
    {
     "data": {
      "text/html": [
       "<div>\n",
       "<style scoped>\n",
       "    .dataframe tbody tr th:only-of-type {\n",
       "        vertical-align: middle;\n",
       "    }\n",
       "\n",
       "    .dataframe tbody tr th {\n",
       "        vertical-align: top;\n",
       "    }\n",
       "\n",
       "    .dataframe thead th {\n",
       "        text-align: right;\n",
       "    }\n",
       "</style>\n",
       "<table border=\"1\" class=\"dataframe\">\n",
       "  <thead>\n",
       "    <tr style=\"text-align: right;\">\n",
       "      <th></th>\n",
       "      <th>annotation</th>\n",
       "      <th>score_0</th>\n",
       "      <th>score_1</th>\n",
       "      <th>score_2</th>\n",
       "      <th>score_3</th>\n",
       "      <th>score_4</th>\n",
       "      <th>score_5</th>\n",
       "      <th>score_6</th>\n",
       "      <th>score_7</th>\n",
       "      <th>score_8</th>\n",
       "      <th>...</th>\n",
       "      <th>score_2090</th>\n",
       "      <th>score_2091</th>\n",
       "      <th>score_2092</th>\n",
       "      <th>score_2093</th>\n",
       "      <th>score_2094</th>\n",
       "      <th>score_2095</th>\n",
       "      <th>score_2096</th>\n",
       "      <th>score_2097</th>\n",
       "      <th>score_2098</th>\n",
       "      <th>score_2099</th>\n",
       "    </tr>\n",
       "  </thead>\n",
       "  <tbody>\n",
       "    <tr>\n",
       "      <th>0</th>\n",
       "      <td>1.0</td>\n",
       "      <td>0.067249</td>\n",
       "      <td>-0.124214</td>\n",
       "      <td>0.710593</td>\n",
       "      <td>0.175284</td>\n",
       "      <td>0.255349</td>\n",
       "      <td>0.490822</td>\n",
       "      <td>0.178169</td>\n",
       "      <td>0.245093</td>\n",
       "      <td>0.203205</td>\n",
       "      <td>...</td>\n",
       "      <td>0.430539</td>\n",
       "      <td>0.088351</td>\n",
       "      <td>-0.063139</td>\n",
       "      <td>-0.129741</td>\n",
       "      <td>-0.430315</td>\n",
       "      <td>0.165388</td>\n",
       "      <td>0.449008</td>\n",
       "      <td>0.403016</td>\n",
       "      <td>0.164461</td>\n",
       "      <td>0.262313</td>\n",
       "    </tr>\n",
       "    <tr>\n",
       "      <th>1</th>\n",
       "      <td>1.0</td>\n",
       "      <td>-0.832360</td>\n",
       "      <td>0.739175</td>\n",
       "      <td>-0.075869</td>\n",
       "      <td>0.303561</td>\n",
       "      <td>-0.422790</td>\n",
       "      <td>-0.057959</td>\n",
       "      <td>-0.293065</td>\n",
       "      <td>-0.956547</td>\n",
       "      <td>-0.135137</td>\n",
       "      <td>...</td>\n",
       "      <td>-0.609391</td>\n",
       "      <td>-0.128465</td>\n",
       "      <td>0.836479</td>\n",
       "      <td>-0.227831</td>\n",
       "      <td>-0.026814</td>\n",
       "      <td>0.076099</td>\n",
       "      <td>0.735295</td>\n",
       "      <td>0.493049</td>\n",
       "      <td>0.278376</td>\n",
       "      <td>-0.287632</td>\n",
       "    </tr>\n",
       "  </tbody>\n",
       "</table>\n",
       "<p>2 rows × 2101 columns</p>\n",
       "</div>"
      ],
      "text/plain": [
       "   annotation   score_0   score_1   score_2   score_3   score_4   score_5  \\\n",
       "0         1.0  0.067249 -0.124214  0.710593  0.175284  0.255349  0.490822   \n",
       "1         1.0 -0.832360  0.739175 -0.075869  0.303561 -0.422790 -0.057959   \n",
       "\n",
       "    score_6   score_7   score_8     ...      score_2090  score_2091  \\\n",
       "0  0.178169  0.245093  0.203205     ...        0.430539    0.088351   \n",
       "1 -0.293065 -0.956547 -0.135137     ...       -0.609391   -0.128465   \n",
       "\n",
       "   score_2092  score_2093  score_2094  score_2095  score_2096  score_2097  \\\n",
       "0   -0.063139   -0.129741   -0.430315    0.165388    0.449008    0.403016   \n",
       "1    0.836479   -0.227831   -0.026814    0.076099    0.735295    0.493049   \n",
       "\n",
       "   score_2098  score_2099  \n",
       "0    0.164461    0.262313  \n",
       "1    0.278376   -0.287632  \n",
       "\n",
       "[2 rows x 2101 columns]"
      ]
     },
     "execution_count": 25,
     "metadata": {},
     "output_type": "execute_result"
    }
   ],
   "source": [
    "scores = []\n",
    "k = 3\n",
    "for index in tqdm.tqdm(range(len(data))):\n",
    "    answer = embed_answer(data.iloc[index]['solution'])\n",
    "    if len(answer)>k:\n",
    "        scores.append(get_principal_components(answer.T, k=k).T)#,compute_variance(answer, eval_type='var'),compute_variance(answer, eval_type='dist')])\n",
    "    else:\n",
    "        scores.append([np.nan]*700*k)\n",
    "        \n",
    "# Total = 15309\n",
    "scores_df = pd.DataFrame(data=np.array(scores),index=data.index, columns = ['score_'+str(i) for i in range(700*k)]) \n",
    "argumentation_scores = pd.concat([data['annotation'],scores_df], axis=1) \n",
    "argumentation_scores.head(2)"
   ]
  },
  {
   "cell_type": "code",
   "execution_count": 26,
   "metadata": {},
   "outputs": [
    {
     "name": "stdout",
     "output_type": "stream",
     "text": [
      "(2442, 2101)\n",
      "    score_0   score_1   score_2   score_3   score_4   score_5   score_6  \\\n",
      "0  0.067249 -0.124214  0.710593  0.175284  0.255349  0.490822  0.178169   \n",
      "1 -0.832360  0.739175 -0.075869  0.303561 -0.422790 -0.057959 -0.293065   \n",
      "\n",
      "    score_7   score_8   score_9     ...      score_2090  score_2091  \\\n",
      "0  0.245093  0.203205 -0.082717     ...        0.430539    0.088351   \n",
      "1 -0.956547 -0.135137  0.126935     ...       -0.609391   -0.128465   \n",
      "\n",
      "   score_2092  score_2093  score_2094  score_2095  score_2096  score_2097  \\\n",
      "0   -0.063139   -0.129741   -0.430315    0.165388    0.449008    0.403016   \n",
      "1    0.836479   -0.227831   -0.026814    0.076099    0.735295    0.493049   \n",
      "\n",
      "   score_2098  score_2099  \n",
      "0    0.164461    0.262313  \n",
      "1    0.278376   -0.287632  \n",
      "\n",
      "[2 rows x 2100 columns]\n",
      "0    1.0\n",
      "1    1.0\n",
      "Name: annotation, dtype: float64\n"
     ]
    }
   ],
   "source": [
    "argumentation_scores = argumentation_scores.dropna()\n",
    "print(argumentation_scores.shape)\n",
    "X = argumentation_scores.drop('annotation',axis=1)\n",
    "Y = argumentation_scores['annotation']\n",
    "print(X.head(2))\n",
    "print(Y.head(2))\n",
    "X_train, X_test, y_train, y_test = train_test_split(X, Y, test_size=0.2, random_state=42)"
   ]
  },
  {
   "cell_type": "code",
   "execution_count": 27,
   "metadata": {
    "scrolled": true
   },
   "outputs": [
    {
     "data": {
      "text/plain": [
       "[<matplotlib.lines.Line2D at 0x7f28feac43c8>]"
      ]
     },
     "execution_count": 27,
     "metadata": {},
     "output_type": "execute_result"
    },
    {
     "data": {
      "image/png": "[encoded data removed]",
      "text/plain": [
       "<Figure size 432x288 with 1 Axes>"
      ]
     },
     "metadata": {
      "needs_background": "light"
     },
     "output_type": "display_data"
    }
   ],
   "source": [
    "pca = PCA(n_components=350)\n",
    "pca.fit_transform(X_train)\n",
    "plt.plot(pca.explained_variance_ratio_)"
   ]
  },
  {
   "cell_type": "code",
   "execution_count": 28,
   "metadata": {},
   "outputs": [
    {
     "name": "stdout",
     "output_type": "stream",
     "text": [
      "here\n",
      "---------------Scores on train---------------\n",
      "[[898 300]\n",
      " [448 307]]\n",
      "             precision    recall  f1-score   support\n",
      "\n",
      "        0.0       0.67      0.75      0.71      1198\n",
      "        1.0       0.51      0.41      0.45       755\n",
      "\n",
      "avg / total       0.60      0.62      0.61      1953\n",
      "\n",
      "1953 607.0\n",
      "0.45080763582966227\n",
      "---------------Scores on test---------------\n",
      "[[224 114]\n",
      " [ 93  58]]\n",
      "             precision    recall  f1-score   support\n",
      "\n",
      "        0.0       0.71      0.66      0.68       338\n",
      "        1.0       0.34      0.38      0.36       151\n",
      "\n",
      "avg / total       0.59      0.58      0.58       489\n",
      "\n",
      "489 151.0\n",
      "0.3591331269349845\n"
     ]
    }
   ],
   "source": [
    "\n",
    "pca = PCA(n_components=50)\n",
    "pca.fit_transform(X_train)\n",
    "print('here')\n",
    "X_train_pca = pca.transform(X_train)\n",
    "X_test_pca = pca.transform(X_test)\n",
    "svclassifier = SVC(kernel='linear', C=1e0, class_weight= 'balanced')\n",
    "svclassifier.fit(X_train_pca, y_train)\n",
    "print(15*'-' +'Scores on train' + 15*'-' )\n",
    "y_pred = svclassifier.predict(X_train_pca)\n",
    "print(confusion_matrix(y_pred,y_train))\n",
    "print(classification_report(y_pred, y_train))\n",
    "print(len(y_train), np.sum(y_train))\n",
    "print(f1_score(y_pred,y_train))\n",
    "\n",
    "print(15*'-' +'Scores on test' + 15*'-' )\n",
    "y_pred = svclassifier.predict(X_test_pca)\n",
    "print(confusion_matrix(y_test,y_pred))\n",
    "print(classification_report(y_test,y_pred))\n",
    "print(len(y_test), np.sum(y_test))\n",
    "print(f1_score(y_pred,y_test))"
   ]
  },
  {
   "cell_type": "code",
   "execution_count": 11,
   "metadata": {},
   "outputs": [
    {
     "name": "stdout",
     "output_type": "stream",
     "text": [
      "---------------Scores on train---------------\n",
      "[[924 316]\n",
      " [411 298]]\n",
      "             precision    recall  f1-score   support\n",
      "\n",
      "        0.0       0.69      0.75      0.72      1240\n",
      "        1.0       0.49      0.42      0.45       709\n",
      "\n",
      "avg / total       0.62      0.63      0.62      1949\n",
      "\n",
      "1949 614.0\n",
      "0.45049130763416473\n",
      "---------------Scores on test---------------\n",
      "[[242 102]\n",
      " [ 81  63]]\n",
      "             precision    recall  f1-score   support\n",
      "\n",
      "        0.0       0.75      0.70      0.73       344\n",
      "        1.0       0.38      0.44      0.41       144\n",
      "\n",
      "avg / total       0.64      0.62      0.63       488\n",
      "\n",
      "488 144.0\n",
      "0.4077669902912621\n"
     ]
    }
   ],
   "source": [
    "svclassifier = SVC(kernel='linear', C=1e-1, class_weight= 'balanced')\n",
    "svclassifier.fit(X_train_pca, y_train)\n",
    "print(15*'-' +'Scores on train' + 15*'-' )\n",
    "y_pred = svclassifier.predict(X_train_pca)\n",
    "print(confusion_matrix(y_pred,y_train))\n",
    "print(classification_report(y_pred, y_train))\n",
    "print(len(y_train), np.sum(y_train))\n",
    "print(f1_score(y_pred,y_train))\n",
    "\n",
    "print(15*'-' +'Scores on test' + 15*'-' )\n",
    "y_pred = svclassifier.predict(X_test_pca)\n",
    "print(confusion_matrix(y_test,y_pred))\n",
    "print(classification_report(y_test,y_pred))\n",
    "print(len(y_test), np.sum(y_test))\n",
    "print(f1_score(y_pred,y_test))"
   ]
  }
 ],
 "metadata": {
  "kernelspec": {
   "display_name": "Python 3",
   "language": "python",
   "name": "python3"
  },
  "language_info": {
   "codemirror_mode": {
    "name": "ipython",
    "version": 3
   },
   "file_extension": ".py",
   "mimetype": "text/x-python",
   "name": "python",
   "nbconvert_exporter": "python",
   "pygments_lexer": "ipython3",
   "version": "3.6.8"
  }
 },
 "nbformat": 4,
 "nbformat_minor": 2
}
